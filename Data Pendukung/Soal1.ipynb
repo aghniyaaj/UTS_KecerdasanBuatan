{
  "nbformat": 4,
  "nbformat_minor": 0,
  "metadata": {
    "colab": {
      "provenance": [],
      "authorship_tag": "ABX9TyOwX+e6n1iWBrbtYZ9Bthw0",
      "include_colab_link": true
    },
    "kernelspec": {
      "name": "python3",
      "display_name": "Python 3"
    },
    "language_info": {
      "name": "python"
    }
  },
  "cells": [
    {
      "cell_type": "markdown",
      "metadata": {
        "id": "view-in-github",
        "colab_type": "text"
      },
      "source": [
        "<a href=\"https://colab.research.google.com/github/aghniyaaj/UTS_KecerdasanBuatan/blob/main/Soal1.ipynb\" target=\"_parent\"><img src=\"https://colab.research.google.com/assets/colab-badge.svg\" alt=\"Open In Colab\"/></a>"
      ]
    },
    {
      "cell_type": "code",
      "source": [
        "!pip install experta"
      ],
      "metadata": {
        "colab": {
          "base_uri": "https://localhost:8080/"
        },
        "id": "wWbyRj3MJUEE",
        "outputId": "b8f20dc7-ff83-47e0-ac20-d05a13ef0d61"
      },
      "execution_count": null,
      "outputs": [
        {
          "output_type": "stream",
          "name": "stdout",
          "text": [
            "Collecting experta\n",
            "  Downloading experta-1.9.4-py3-none-any.whl.metadata (5.0 kB)\n",
            "Collecting frozendict==1.2 (from experta)\n",
            "  Downloading frozendict-1.2.tar.gz (2.6 kB)\n",
            "  Preparing metadata (setup.py) ... \u001b[?25l\u001b[?25hdone\n",
            "Collecting schema==0.6.7 (from experta)\n",
            "  Downloading schema-0.6.7-py2.py3-none-any.whl.metadata (14 kB)\n",
            "Downloading experta-1.9.4-py3-none-any.whl (35 kB)\n",
            "Downloading schema-0.6.7-py2.py3-none-any.whl (14 kB)\n",
            "Building wheels for collected packages: frozendict\n",
            "  Building wheel for frozendict (setup.py) ... \u001b[?25l\u001b[?25hdone\n",
            "  Created wheel for frozendict: filename=frozendict-1.2-py3-none-any.whl size=3149 sha256=e03ab2d91cb02813a0d51c62ef1d99711eb3151b375d338401335995268b397e\n",
            "  Stored in directory: /root/.cache/pip/wheels/49/ac/f8/cb8120244e710bdb479c86198b03c7b08c3c2d3d2bf448fd6e\n",
            "Successfully built frozendict\n",
            "Installing collected packages: schema, frozendict, experta\n",
            "  Attempting uninstall: frozendict\n",
            "    Found existing installation: frozendict 2.4.6\n",
            "    Uninstalling frozendict-2.4.6:\n",
            "      Successfully uninstalled frozendict-2.4.6\n",
            "\u001b[31mERROR: pip's dependency resolver does not currently take into account all the packages that are installed. This behaviour is the source of the following dependency conflicts.\n",
            "yfinance 0.2.55 requires frozendict>=2.3.4, but you have frozendict 1.2 which is incompatible.\u001b[0m\u001b[31m\n",
            "\u001b[0mSuccessfully installed experta-1.9.4 frozendict-1.2 schema-0.6.7\n"
          ]
        }
      ]
    },
    {
      "cell_type": "code",
      "source": [
        "!pip install --upgrade frozendict"
      ],
      "metadata": {
        "colab": {
          "base_uri": "https://localhost:8080/"
        },
        "id": "x4oxWtiSJW-l",
        "outputId": "672eb38f-9548-4f64-c01a-aca788b3c46e"
      },
      "execution_count": null,
      "outputs": [
        {
          "output_type": "stream",
          "name": "stdout",
          "text": [
            "Requirement already satisfied: frozendict in /usr/local/lib/python3.11/dist-packages (1.2)\n",
            "Collecting frozendict\n",
            "  Downloading frozendict-2.4.6-py311-none-any.whl.metadata (23 kB)\n",
            "Downloading frozendict-2.4.6-py311-none-any.whl (16 kB)\n",
            "Installing collected packages: frozendict\n",
            "  Attempting uninstall: frozendict\n",
            "    Found existing installation: frozendict 1.2\n",
            "    Uninstalling frozendict-1.2:\n",
            "      Successfully uninstalled frozendict-1.2\n",
            "\u001b[31mERROR: pip's dependency resolver does not currently take into account all the packages that are installed. This behaviour is the source of the following dependency conflicts.\n",
            "experta 1.9.4 requires frozendict==1.2, but you have frozendict 2.4.6 which is incompatible.\u001b[0m\u001b[31m\n",
            "\u001b[0mSuccessfully installed frozendict-2.4.6\n"
          ]
        }
      ]
    },
    {
      "cell_type": "code",
      "source": [
        "from experta import *\n",
        "\n",
        "class Diagnosis(KnowledgeEngine):\n",
        "  @Rule(Fact(daun_menguning=True) & Fact(tanaman_layu=True) & Fact(bercak_hitam=False) & Fact(daun_berlubang=False) )\n",
        "  def ular_tanah(self):\n",
        "    print(\"Tanaman kemungkinan terkena hama ular tanah! \")\n",
        "\n",
        "  @Rule(Fact(daun_menguning=False) & Fact(tanaman_layu=False) & Fact(bercak_hitam=True) & Fact(daun_berlubang=True) )\n",
        "  def kumbang_daun(self):\n",
        "    print(\"Tanaman kemungkinan terkena hama kumbang daun! \")\n",
        "\n",
        "  @Rule(Fact(daun_menguning=False) & Fact(tanaman_layu=False) & Fact(bercak_hitam=False) & Fact(daun_berlubang=True) )\n",
        "  def belalang(self):\n",
        "    print(\"Tanaman kemungkinan terkena hama belalang! \")\n",
        "\n",
        "  @Rule(Fact(daun_menguning=False) & Fact(tanaman_layu=False) & Fact(bercak_hitam=True) & Fact(daun_berlubang=False) )\n",
        "  def jamur_daun(self):\n",
        "    print(\"Tanaman kemungkinan terkena hama jamur daun! \")\n",
        "\n",
        "  @Rule(Fact(daun_menguning=False) & Fact(tanaman_layu=False) & Fact(bercak_hitam=False) & Fact(daun_berlubang=False) )\n",
        "  def sehat(self):\n",
        "    print(\"Tanaman terlihat sehat dan tidak terkena hama! \")\n",
        "\n",
        "def get_input():\n",
        "  \"\"\"Helper function to get user input as boolean (yes/no).\"\"\"\n",
        "  def ask_question(question):\n",
        "    return input(question + \"(yes/no): \").strip().lower() == \"yes\"\n",
        "\n",
        "  return {\n",
        "      \"daun_menguning\": ask_question(\"Apakah tanaman daunnya menguning?\"),\n",
        "      \"bercak_hitam\": ask_question(\"Apakah tanaman memiliki bercak hitam?\"),\n",
        "      \"daun_berlubang\": ask_question(\"Apakah tanaman memiliki daun yang berlubang?\"),\n",
        "      \"tanaman_layu\": ask_question(\"Apakah tanaman terlihat layu?\")\n",
        "  }\n",
        "\n",
        "# running the expert system\n",
        "if __name__ == \"__main__\":\n",
        "  symtoms = get_input()\n",
        "  engine = Diagnosis()\n",
        "  engine.reset() # reset the knowledge engine\n",
        "\n",
        "  for symtom, present in symtoms.items():\n",
        "    engine.declare(Fact(**{symtom: present})) # declare facts\n",
        "\n",
        "  engine.run() # run the interface engine"
      ],
      "metadata": {
        "colab": {
          "base_uri": "https://localhost:8080/"
        },
        "id": "bS6R9PvHLraM",
        "outputId": "310ca139-2d37-493c-a16b-9fe8d4633342"
      },
      "execution_count": 12,
      "outputs": [
        {
          "output_type": "stream",
          "name": "stdout",
          "text": [
            "Apakah tanaman daunnya menguning?(yes/no): yes\n",
            "Apakah tanaman memiliki bercak hitam?(yes/no): no\n",
            "Apakah tanaman memiliki daun yang berlubang?(yes/no): no\n",
            "Apakah tanaman terlihat layu?(yes/no): yes\n",
            "Tanaman kemungkinan terkena hama ular tanah! \n"
          ]
        }
      ]
    }
  ]
}
